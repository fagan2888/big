{
 "cells": [
  {
   "cell_type": "code",
   "execution_count": 5,
   "metadata": {},
   "outputs": [],
   "source": [
    "import main\n",
    "import get_split_stra as gss\n",
    "import pandas as pd\n",
    "from rqdata import up_file,now_file\n",
    "import get_zl_expre\n",
    "\n",
    "def get_remain_stra(result,_s_long):\n",
    "    unit = pd.read_excel(up_file+'/result/split'+'/unit.xlsx')\n",
    "    unit_columns = unit.columns.values\n",
    "    ori_expre_list = get_zl_expre.get_expression_list_split()\n",
    "    ori_expre_list.append(_s_long)\n",
    "    expre_list = [str(x) for x in ori_expre_list]\n",
    "    pure_uc = [x[:-19] for x in unit_columns]\n",
    "    uc_index = []\n",
    "    for r in expre_list:\n",
    "        uc_index.append(pure_uc.index(r))\n",
    "    use_uc =  unit_columns[uc_index] \n",
    "    use_unit = unit.loc[:,use_uc]\n",
    "    remain_stra = use_unit.corr()[(use_unit.corr().loc[:,use_uc[-1]])>0.99]\n",
    "    remain_stra_name = remain_stra.index.values[:-1]\n",
    "    remain_stra_name_pure =[x[:-19] for x in remain_stra_name]\n",
    "    remain_stra_name_short = []\n",
    "    for _r in remain_stra_name_pure:\n",
    "        remain_stra_name_short.append(result[expre_list.index(_r)])\n",
    "    return remain_stra_name_short\n",
    "\n",
    "def clear_result(result,result2):\n",
    "    \n",
    "    new_result = []\n",
    "    new_result2 = []\n",
    "    unit = pd.read_excel(up_file+'/result/split'+'/unit.xlsx')\n",
    "    unit_columns = unit.columns.values\n",
    "    pure_uc = [x[:-19] for x in unit_columns]\n",
    "    for i in range(len(result)):\n",
    "        com_e = [result[i].split(',')[0].strip(\"[]''\"),result[i].split(',')[1].strip(\"[]''\")]\n",
    "        if(com_e not in pure_uc):\n",
    "            new_result.append(result[i])\n",
    "            new_result2.append(result2[i])\n",
    "    return new_result,new_result2\n",
    "\n",
    "def save_expre(result,result2):\n",
    "    expre_split= {}\n",
    "    expre_split['expre_long'] = result2\n",
    "    expre_split['expre_short'] = result\n",
    "    expre_fra = pd.DataFrame(expre_split)\n",
    "    expre_fra.to_excel('/Users/wode/Desktop/expre_2.xlsx')"
   ]
  },
  {
   "cell_type": "code",
   "execution_count": 3,
   "metadata": {
    "collapsed": true,
    "jupyter": {
     "outputs_hidden": true
    }
   },
   "outputs": [
    {
     "name": "stdout",
     "output_type": "stream",
     "text": [
      "['K_shift_1#10#0&HS&thre*D_shift_1#70#1&thre+K_shift_1#10#0&HS&thre*OBV#0#0&thre+D_shift_1#10#0&HS&thre*D_shift_1#70#1&thre+D_shift_1#10#0&HS&thre*OBV#0#0&thre', 'close_MA_10_shift_1#close_MA_10#1&HS&diff*D_shift_1#80#1&HS&thre+close_MA_10_shift_1#close_MA_10#1&HS&diff*K_shift_1#90#1&thre+close_MA_10_shift_1#close_MA_10#1&HS&diff*OBV#0#0&thre+K_shift_1#20#0&HS&thre*D_shift_1#80#1&HS&thre+K_shift_1#20#0&HS&thre*K_shift_1#90#1&thre+K_shift_1#20#0&HS&thre*OBV#0#0&thre+D_shift_1#10#0&HS&thre*D_shift_1#80#1&HS&thre+D_shift_1#10#0&HS&thre*K_shift_1#90#1&thre+D_shift_1#10#0&HS&thre*OBV#0#0&thre']\n",
      "['K#90#1&HS&thre*D_shift_1#70#1&thre+K#90#1&HS&thre*OBV#0#0&thre+D_shift_1#10#0&HS&thre*D_shift_1#70#1&thre+D_shift_1#10#0&HS&thre*OBV#0#0&thre', 'close_MA_10_shift_1#close_MA_10#1&HS&diff*D_shift_1#80#1&HS&thre+close_MA_10_shift_1#close_MA_10#1&HS&diff*K_shift_1#90#1&thre+close_MA_10_shift_1#close_MA_10#1&HS&diff*OBV#0#0&thre+K_shift_1#20#0&HS&thre*D_shift_1#80#1&HS&thre+K_shift_1#20#0&HS&thre*K_shift_1#90#1&thre+K_shift_1#20#0&HS&thre*OBV#0#0&thre+D_shift_1#10#0&HS&thre*D_shift_1#80#1&HS&thre+D_shift_1#10#0&HS&thre*K_shift_1#90#1&thre+D_shift_1#10#0&HS&thre*OBV#0#0&thre']\n",
      "['K#90#1&HS&thre*D_shift_1#70#1&thre+K#90#1&HS&thre*OBV#0#0&thre+K_shift_1#10#0&HS&thre*D_shift_1#70#1&thre+K_shift_1#10#0&HS&thre*OBV#0#0&thre', 'close_MA_10_shift_1#close_MA_10#1&HS&diff*D_shift_1#80#1&HS&thre+close_MA_10_shift_1#close_MA_10#1&HS&diff*K_shift_1#90#1&thre+close_MA_10_shift_1#close_MA_10#1&HS&diff*OBV#0#0&thre+K_shift_1#20#0&HS&thre*D_shift_1#80#1&HS&thre+K_shift_1#20#0&HS&thre*K_shift_1#90#1&thre+K_shift_1#20#0&HS&thre*OBV#0#0&thre']\n",
      "['K#90#1&HS&thre*OBV#0#0&thre+K_shift_1#10#0&HS&thre*OBV#0#0&thre+D_shift_1#10#0&HS&thre*OBV#0#0&thre', 'close_MA_10_shift_1#close_MA_10#1&HS&diff*D_shift_1#80#1&HS&thre+close_MA_10_shift_1#close_MA_10#1&HS&diff*K_shift_1#90#1&thre+close_MA_10_shift_1#close_MA_10#1&HS&diff*OBV#0#0&thre+K_shift_1#20#0&HS&thre*D_shift_1#80#1&HS&thre+K_shift_1#20#0&HS&thre*K_shift_1#90#1&thre+K_shift_1#20#0&HS&thre*OBV#0#0&thre+D_shift_1#10#0&HS&thre*D_shift_1#80#1&HS&thre+D_shift_1#10#0&HS&thre*K_shift_1#90#1&thre+D_shift_1#10#0&HS&thre*OBV#0#0&thre']\n",
      "['K#90#1&HS&thre*D_shift_1#70#1&thre+K_shift_1#10#0&HS&thre*D_shift_1#70#1&thre+D_shift_1#10#0&HS&thre*D_shift_1#70#1&thre', 'close_MA_10_shift_1#close_MA_10#1&HS&diff*D_shift_1#80#1&HS&thre+close_MA_10_shift_1#close_MA_10#1&HS&diff*K_shift_1#90#1&thre+K_shift_1#20#0&HS&thre*D_shift_1#80#1&HS&thre+K_shift_1#20#0&HS&thre*K_shift_1#90#1&thre+D_shift_1#10#0&HS&thre*D_shift_1#80#1&HS&thre+D_shift_1#10#0&HS&thre*K_shift_1#90#1&thre']\n",
      "['D_shift_1#70#1&thre+OBV#0#0&thre', 'close_MA_10_shift_1#close_MA_10#1&HS&diff*D_shift_1#80#1&HS&thre+close_MA_10_shift_1#close_MA_10#1&HS&diff*K_shift_1#90#1&thre+close_MA_10_shift_1#close_MA_10#1&HS&diff*OBV#0#0&thre+K_shift_1#20#0&HS&thre*D_shift_1#80#1&HS&thre+K_shift_1#20#0&HS&thre*K_shift_1#90#1&thre+K_shift_1#20#0&HS&thre*OBV#0#0&thre+D_shift_1#10#0&HS&thre*D_shift_1#80#1&HS&thre+D_shift_1#10#0&HS&thre*K_shift_1#90#1&thre+D_shift_1#10#0&HS&thre*OBV#0#0&thre']\n",
      "['K#90#1&HS&thre+K_shift_1#10#0&HS&thre+D_shift_1#10#0&HS&thre', 'close_MA_10_shift_1#close_MA_10#1&HS&diff*D_shift_1#80#1&HS&thre+close_MA_10_shift_1#close_MA_10#1&HS&diff*K_shift_1#90#1&thre+close_MA_10_shift_1#close_MA_10#1&HS&diff*OBV#0#0&thre+K_shift_1#20#0&HS&thre*D_shift_1#80#1&HS&thre+K_shift_1#20#0&HS&thre*K_shift_1#90#1&thre+K_shift_1#20#0&HS&thre*OBV#0#0&thre+D_shift_1#10#0&HS&thre*D_shift_1#80#1&HS&thre+D_shift_1#10#0&HS&thre*K_shift_1#90#1&thre+D_shift_1#10#0&HS&thre*OBV#0#0&thre']\n",
      "['K#90#1&HS&thre*D_shift_1#70#1&thre+K#90#1&HS&thre*OBV#0#0&thre+K_shift_1#10#0&HS&thre*D_shift_1#70#1&thre+K_shift_1#10#0&HS&thre*OBV#0#0&thre+D_shift_1#10#0&HS&thre*D_shift_1#70#1&thre+D_shift_1#10#0&HS&thre*OBV#0#0&thre', 'K_shift_1#20#0&HS&thre*D_shift_1#80#1&HS&thre+K_shift_1#20#0&HS&thre*K_shift_1#90#1&thre+K_shift_1#20#0&HS&thre*OBV#0#0&thre+D_shift_1#10#0&HS&thre*D_shift_1#80#1&HS&thre+D_shift_1#10#0&HS&thre*K_shift_1#90#1&thre+D_shift_1#10#0&HS&thre*OBV#0#0&thre']\n",
      "['K#90#1&HS&thre*D_shift_1#70#1&thre+K#90#1&HS&thre*OBV#0#0&thre+K_shift_1#10#0&HS&thre*D_shift_1#70#1&thre+K_shift_1#10#0&HS&thre*OBV#0#0&thre+D_shift_1#10#0&HS&thre*D_shift_1#70#1&thre+D_shift_1#10#0&HS&thre*OBV#0#0&thre', 'close_MA_10_shift_1#close_MA_10#1&HS&diff*D_shift_1#80#1&HS&thre+close_MA_10_shift_1#close_MA_10#1&HS&diff*K_shift_1#90#1&thre+close_MA_10_shift_1#close_MA_10#1&HS&diff*OBV#0#0&thre+D_shift_1#10#0&HS&thre*D_shift_1#80#1&HS&thre+D_shift_1#10#0&HS&thre*K_shift_1#90#1&thre+D_shift_1#10#0&HS&thre*OBV#0#0&thre']\n",
      "['K#90#1&HS&thre*D_shift_1#70#1&thre+K#90#1&HS&thre*OBV#0#0&thre+K_shift_1#10#0&HS&thre*D_shift_1#70#1&thre+K_shift_1#10#0&HS&thre*OBV#0#0&thre', 'close_MA_10_shift_1#close_MA_10#1&HS&diff*D_shift_1#80#1&HS&thre+close_MA_10_shift_1#close_MA_10#1&HS&diff*K_shift_1#90#1&thre+close_MA_10_shift_1#close_MA_10#1&HS&diff*OBV#0#0&thre+K_shift_1#20#0&HS&thre*D_shift_1#80#1&HS&thre+K_shift_1#20#0&HS&thre*K_shift_1#90#1&thre+K_shift_1#20#0&HS&thre*OBV#0#0&thre']\n",
      "['K#90#1&HS&thre*D_shift_1#70#1&thre+K#90#1&HS&thre*OBV#0#0&thre+K_shift_1#10#0&HS&thre*D_shift_1#70#1&thre+K_shift_1#10#0&HS&thre*OBV#0#0&thre+D_shift_1#10#0&HS&thre*D_shift_1#70#1&thre+D_shift_1#10#0&HS&thre*OBV#0#0&thre', 'close_MA_10_shift_1#close_MA_10#1&HS&diff*K_shift_1#90#1&thre+close_MA_10_shift_1#close_MA_10#1&HS&diff*OBV#0#0&thre+K_shift_1#20#0&HS&thre*K_shift_1#90#1&thre+K_shift_1#20#0&HS&thre*OBV#0#0&thre+D_shift_1#10#0&HS&thre*K_shift_1#90#1&thre+D_shift_1#10#0&HS&thre*OBV#0#0&thre']\n",
      "['K#90#1&HS&thre*D_shift_1#70#1&thre+K#90#1&HS&thre*OBV#0#0&thre+K_shift_1#10#0&HS&thre*D_shift_1#70#1&thre+K_shift_1#10#0&HS&thre*OBV#0#0&thre+D_shift_1#10#0&HS&thre*D_shift_1#70#1&thre+D_shift_1#10#0&HS&thre*OBV#0#0&thre', 'close_MA_10_shift_1#close_MA_10#1&HS&diff*D_shift_1#80#1&HS&thre+close_MA_10_shift_1#close_MA_10#1&HS&diff*OBV#0#0&thre+K_shift_1#20#0&HS&thre*D_shift_1#80#1&HS&thre+K_shift_1#20#0&HS&thre*OBV#0#0&thre+D_shift_1#10#0&HS&thre*D_shift_1#80#1&HS&thre+D_shift_1#10#0&HS&thre*OBV#0#0&thre']\n",
      "['K#90#1&HS&thre*D_shift_1#70#1&thre+K_shift_1#10#0&HS&thre*D_shift_1#70#1&thre+D_shift_1#10#0&HS&thre*D_shift_1#70#1&thre', 'close_MA_10_shift_1#close_MA_10#1&HS&diff*D_shift_1#80#1&HS&thre+close_MA_10_shift_1#close_MA_10#1&HS&diff*K_shift_1#90#1&thre+K_shift_1#20#0&HS&thre*D_shift_1#80#1&HS&thre+K_shift_1#20#0&HS&thre*K_shift_1#90#1&thre+D_shift_1#10#0&HS&thre*D_shift_1#80#1&HS&thre+D_shift_1#10#0&HS&thre*K_shift_1#90#1&thre']\n",
      "['K#90#1&HS&thre*D_shift_1#70#1&thre+K#90#1&HS&thre*OBV#0#0&thre+K_shift_1#10#0&HS&thre*D_shift_1#70#1&thre+K_shift_1#10#0&HS&thre*OBV#0#0&thre+D_shift_1#10#0&HS&thre*D_shift_1#70#1&thre+D_shift_1#10#0&HS&thre*OBV#0#0&thre', 'D_shift_1#80#1&HS&thre+K_shift_1#90#1&thre+OBV#0#0&thre']\n",
      "['K#90#1&HS&thre*D_shift_1#70#1&thre+K#90#1&HS&thre*OBV#0#0&thre+K_shift_1#10#0&HS&thre*D_shift_1#70#1&thre+K_shift_1#10#0&HS&thre*OBV#0#0&thre+D_shift_1#10#0&HS&thre*D_shift_1#70#1&thre+D_shift_1#10#0&HS&thre*OBV#0#0&thre', 'close_MA_10_shift_1#close_MA_10#1&HS&diff+K_shift_1#20#0&HS&thre+D_shift_1#10#0&HS&thre']\n"
     ]
    }
   ],
   "source": [
    "s = \"['K#90#1&HS&thre+K_shift_1#10#0&HS&thre+D_shift_1#10#0&HS&thre*D_shift_1#70#1&thre+OBV#0#0&thre', 'close_MA_10_shift_1#close_MA_10#1&HS&diff+K_shift_1#20#0&HS&thre+D_shift_1#10#0&HS&thre*D_shift_1#80#1&HS&thre+K_shift_1#90#1&thre+OBV#0#0&thre']\"\n",
    "_s_long = \"['K#90#1&HS&thre*D_shift_1#70#1&thre+K#90#1&HS&thre*OBV#0#0&thre+K_shift_1#10#0&HS&thre*D_shift_1#70#1&thre+K_shift_1#10#0&HS&thre*OBV#0#0&thre+D_shift_1#10#0&HS&thre*D_shift_1#70#1&thre+D_shift_1#10#0&HS&thre*OBV#0#0&thre', 'close_MA_10_shift_1#close_MA_10#1&HS&diff*D_shift_1#80#1&HS&thre+close_MA_10_shift_1#close_MA_10#1&HS&diff*K_shift_1#90#1&thre+close_MA_10_shift_1#close_MA_10#1&HS&diff*OBV#0#0&thre+K_shift_1#20#0&HS&thre*D_shift_1#80#1&HS&thre+K_shift_1#20#0&HS&thre*K_shift_1#90#1&thre+K_shift_1#20#0&HS&thre*OBV#0#0&thre+D_shift_1#10#0&HS&thre*D_shift_1#80#1&HS&thre+D_shift_1#10#0&HS&thre*K_shift_1#90#1&thre+D_shift_1#10#0&HS&thre*OBV#0#0&thre']\"\n",
    "result,result2 = gss.get_split_expre(s)\n",
    "main.singel_expre_test(off_line = True,result_path = up_file+'/result/split')\n",
    "main.circle_expre(off_line = True,result_path = up_file+'/result/split')\n",
    "remain_stra = get_remain_stra(result,_s_long)"
   ]
  },
  {
   "cell_type": "code",
   "execution_count": 4,
   "metadata": {},
   "outputs": [
    {
     "name": "stdout",
     "output_type": "stream",
     "text": [
      "['K#90#1&HS&thre*D_shift_1#70#1&thre+K#90#1&HS&thre*OBV#0#0&thre+K_shift_1#10#0&HS&thre*D_shift_1#70#1&thre+K_shift_1#10#0&HS&thre*OBV#0#0&thre+D_shift_1#10#0&HS&thre*D_shift_1#70#1&thre+D_shift_1#10#0&HS&thre*OBV#0#0&thre', 'close_MA_10_shift_1#close_MA_10#1&HS&diff*D_shift_1#80#1&HS&thre+close_MA_10_shift_1#close_MA_10#1&HS&diff*OBV#0#0&thre+D_shift_1#10#0&HS&thre*D_shift_1#80#1&HS&thre+D_shift_1#10#0&HS&thre*OBV#0#0&thre']\n",
      "['D_shift_1#70#1&thre', 'close_MA_10_shift_1#close_MA_10#1&HS&diff*D_shift_1#80#1&HS&thre+close_MA_10_shift_1#close_MA_10#1&HS&diff*K_shift_1#90#1&thre+K_shift_1#20#0&HS&thre*D_shift_1#80#1&HS&thre+K_shift_1#20#0&HS&thre*K_shift_1#90#1&thre+D_shift_1#10#0&HS&thre*D_shift_1#80#1&HS&thre+D_shift_1#10#0&HS&thre*K_shift_1#90#1&thre']\n",
      "['D_shift_1#70#1&thre+OBV#0#0&thre', 'close_MA_10_shift_1#close_MA_10#1&HS&diff*D_shift_1#80#1&HS&thre+close_MA_10_shift_1#close_MA_10#1&HS&diff*K_shift_1#90#1&thre+close_MA_10_shift_1#close_MA_10#1&HS&diff*OBV#0#0&thre+K_shift_1#20#0&HS&thre*D_shift_1#80#1&HS&thre+K_shift_1#20#0&HS&thre*K_shift_1#90#1&thre+K_shift_1#20#0&HS&thre*OBV#0#0&thre']\n",
      "['K#90#1&HS&thre*D_shift_1#70#1&thre+K#90#1&HS&thre*OBV#0#0&thre+D_shift_1#10#0&HS&thre*D_shift_1#70#1&thre+D_shift_1#10#0&HS&thre*OBV#0#0&thre', 'D_shift_1#80#1&HS&thre+K_shift_1#90#1&thre+OBV#0#0&thre']\n",
      "['K#90#1&HS&thre*D_shift_1#70#1&thre+K#90#1&HS&thre*OBV#0#0&thre+D_shift_1#10#0&HS&thre*D_shift_1#70#1&thre+D_shift_1#10#0&HS&thre*OBV#0#0&thre', 'K_shift_1#20#0&HS&thre*D_shift_1#80#1&HS&thre+K_shift_1#20#0&HS&thre*K_shift_1#90#1&thre+K_shift_1#20#0&HS&thre*OBV#0#0&thre+D_shift_1#10#0&HS&thre*D_shift_1#80#1&HS&thre+D_shift_1#10#0&HS&thre*K_shift_1#90#1&thre+D_shift_1#10#0&HS&thre*OBV#0#0&thre']\n",
      "['K_shift_1#10#0&HS&thre*D_shift_1#70#1&thre+K_shift_1#10#0&HS&thre*OBV#0#0&thre', 'close_MA_10_shift_1#close_MA_10#1&HS&diff*D_shift_1#80#1&HS&thre+close_MA_10_shift_1#close_MA_10#1&HS&diff*K_shift_1#90#1&thre+close_MA_10_shift_1#close_MA_10#1&HS&diff*OBV#0#0&thre+K_shift_1#20#0&HS&thre*D_shift_1#80#1&HS&thre+K_shift_1#20#0&HS&thre*K_shift_1#90#1&thre+K_shift_1#20#0&HS&thre*OBV#0#0&thre']\n",
      "['K#90#1&HS&thre*D_shift_1#70#1&thre+K#90#1&HS&thre*OBV#0#0&thre+K_shift_1#10#0&HS&thre*D_shift_1#70#1&thre+K_shift_1#10#0&HS&thre*OBV#0#0&thre', 'close_MA_10_shift_1#close_MA_10#1&HS&diff*D_shift_1#80#1&HS&thre+close_MA_10_shift_1#close_MA_10#1&HS&diff*K_shift_1#90#1&thre+close_MA_10_shift_1#close_MA_10#1&HS&diff*OBV#0#0&thre']\n",
      "['K#90#1&HS&thre+K_shift_1#10#0&HS&thre+D_shift_1#10#0&HS&thre', 'close_MA_10_shift_1#close_MA_10#1&HS&diff*D_shift_1#80#1&HS&thre+close_MA_10_shift_1#close_MA_10#1&HS&diff*K_shift_1#90#1&thre+close_MA_10_shift_1#close_MA_10#1&HS&diff*OBV#0#0&thre+D_shift_1#10#0&HS&thre*D_shift_1#80#1&HS&thre+D_shift_1#10#0&HS&thre*K_shift_1#90#1&thre+D_shift_1#10#0&HS&thre*OBV#0#0&thre']\n",
      "['K#90#1&HS&thre*D_shift_1#70#1&thre+K#90#1&HS&thre*OBV#0#0&thre+K_shift_1#10#0&HS&thre*D_shift_1#70#1&thre+K_shift_1#10#0&HS&thre*OBV#0#0&thre', 'close_MA_10_shift_1#close_MA_10#1&HS&diff*D_shift_1#80#1&HS&thre+close_MA_10_shift_1#close_MA_10#1&HS&diff*OBV#0#0&thre+K_shift_1#20#0&HS&thre*D_shift_1#80#1&HS&thre+K_shift_1#20#0&HS&thre*OBV#0#0&thre']\n",
      "['K#90#1&HS&thre*D_shift_1#70#1&thre+K#90#1&HS&thre*OBV#0#0&thre+K_shift_1#10#0&HS&thre*D_shift_1#70#1&thre+K_shift_1#10#0&HS&thre*OBV#0#0&thre', 'close_MA_10_shift_1#close_MA_10#1&HS&diff+K_shift_1#20#0&HS&thre']\n",
      "['K#90#1&HS&thre*D_shift_1#70#1&thre+K#90#1&HS&thre*OBV#0#0&thre+K_shift_1#10#0&HS&thre*D_shift_1#70#1&thre+K_shift_1#10#0&HS&thre*OBV#0#0&thre+D_shift_1#10#0&HS&thre*D_shift_1#70#1&thre+D_shift_1#10#0&HS&thre*OBV#0#0&thre', 'close_MA_10_shift_1#close_MA_10#1&HS&diff+D_shift_1#10#0&HS&thre']\n",
      "['K_shift_1#10#0&HS&thre*D_shift_1#70#1&thre+D_shift_1#10#0&HS&thre*D_shift_1#70#1&thre', 'close_MA_10_shift_1#close_MA_10#1&HS&diff*D_shift_1#80#1&HS&thre+close_MA_10_shift_1#close_MA_10#1&HS&diff*K_shift_1#90#1&thre+K_shift_1#20#0&HS&thre*D_shift_1#80#1&HS&thre+K_shift_1#20#0&HS&thre*K_shift_1#90#1&thre+D_shift_1#10#0&HS&thre*D_shift_1#80#1&HS&thre+D_shift_1#10#0&HS&thre*K_shift_1#90#1&thre']\n",
      "['K#90#1&HS&thre*D_shift_1#70#1&thre+K#90#1&HS&thre*OBV#0#0&thre+K_shift_1#10#0&HS&thre*D_shift_1#70#1&thre+K_shift_1#10#0&HS&thre*OBV#0#0&thre', 'close_MA_10_shift_1#close_MA_10#1&HS&diff*K_shift_1#90#1&thre+close_MA_10_shift_1#close_MA_10#1&HS&diff*OBV#0#0&thre+K_shift_1#20#0&HS&thre*K_shift_1#90#1&thre+K_shift_1#20#0&HS&thre*OBV#0#0&thre']\n",
      "['K#90#1&HS&thre*D_shift_1#70#1&thre+D_shift_1#10#0&HS&thre*D_shift_1#70#1&thre', 'close_MA_10_shift_1#close_MA_10#1&HS&diff*D_shift_1#80#1&HS&thre+close_MA_10_shift_1#close_MA_10#1&HS&diff*K_shift_1#90#1&thre+K_shift_1#20#0&HS&thre*D_shift_1#80#1&HS&thre+K_shift_1#20#0&HS&thre*K_shift_1#90#1&thre+D_shift_1#10#0&HS&thre*D_shift_1#80#1&HS&thre+D_shift_1#10#0&HS&thre*K_shift_1#90#1&thre']\n",
      "['K#90#1&HS&thre*OBV#0#0&thre+K_shift_1#10#0&HS&thre*OBV#0#0&thre', 'close_MA_10_shift_1#close_MA_10#1&HS&diff*D_shift_1#80#1&HS&thre+close_MA_10_shift_1#close_MA_10#1&HS&diff*K_shift_1#90#1&thre+close_MA_10_shift_1#close_MA_10#1&HS&diff*OBV#0#0&thre+K_shift_1#20#0&HS&thre*D_shift_1#80#1&HS&thre+K_shift_1#20#0&HS&thre*K_shift_1#90#1&thre+K_shift_1#20#0&HS&thre*OBV#0#0&thre']\n",
      "['K#90#1&HS&thre*D_shift_1#70#1&thre+K#90#1&HS&thre*OBV#0#0&thre', 'close_MA_10_shift_1#close_MA_10#1&HS&diff*D_shift_1#80#1&HS&thre+close_MA_10_shift_1#close_MA_10#1&HS&diff*K_shift_1#90#1&thre+close_MA_10_shift_1#close_MA_10#1&HS&diff*OBV#0#0&thre+K_shift_1#20#0&HS&thre*D_shift_1#80#1&HS&thre+K_shift_1#20#0&HS&thre*K_shift_1#90#1&thre+K_shift_1#20#0&HS&thre*OBV#0#0&thre']\n",
      "['K#90#1&HS&thre*D_shift_1#70#1&thre+K#90#1&HS&thre*OBV#0#0&thre+D_shift_1#10#0&HS&thre*D_shift_1#70#1&thre+D_shift_1#10#0&HS&thre*OBV#0#0&thre', 'close_MA_10_shift_1#close_MA_10#1&HS&diff*D_shift_1#80#1&HS&thre+close_MA_10_shift_1#close_MA_10#1&HS&diff*K_shift_1#90#1&thre+close_MA_10_shift_1#close_MA_10#1&HS&diff*OBV#0#0&thre+D_shift_1#10#0&HS&thre*D_shift_1#80#1&HS&thre+D_shift_1#10#0&HS&thre*K_shift_1#90#1&thre+D_shift_1#10#0&HS&thre*OBV#0#0&thre']\n",
      "['K#90#1&HS&thre*D_shift_1#70#1&thre+K_shift_1#10#0&HS&thre*D_shift_1#70#1&thre+D_shift_1#10#0&HS&thre*D_shift_1#70#1&thre', 'close_MA_10_shift_1#close_MA_10#1&HS&diff*D_shift_1#80#1&HS&thre+close_MA_10_shift_1#close_MA_10#1&HS&diff*K_shift_1#90#1&thre+D_shift_1#10#0&HS&thre*D_shift_1#80#1&HS&thre+D_shift_1#10#0&HS&thre*K_shift_1#90#1&thre']\n",
      "['K#90#1&HS&thre*D_shift_1#70#1&thre+K#90#1&HS&thre*OBV#0#0&thre+D_shift_1#10#0&HS&thre*D_shift_1#70#1&thre+D_shift_1#10#0&HS&thre*OBV#0#0&thre', 'close_MA_10_shift_1#close_MA_10#1&HS&diff*D_shift_1#80#1&HS&thre+close_MA_10_shift_1#close_MA_10#1&HS&diff*OBV#0#0&thre+K_shift_1#20#0&HS&thre*D_shift_1#80#1&HS&thre+K_shift_1#20#0&HS&thre*OBV#0#0&thre+D_shift_1#10#0&HS&thre*D_shift_1#80#1&HS&thre+D_shift_1#10#0&HS&thre*OBV#0#0&thre']\n",
      "['D_shift_1#70#1&thre+OBV#0#0&thre', 'close_MA_10_shift_1#close_MA_10#1&HS&diff*D_shift_1#80#1&HS&thre+close_MA_10_shift_1#close_MA_10#1&HS&diff*K_shift_1#90#1&thre+close_MA_10_shift_1#close_MA_10#1&HS&diff*OBV#0#0&thre+K_shift_1#20#0&HS&thre*D_shift_1#80#1&HS&thre+K_shift_1#20#0&HS&thre*K_shift_1#90#1&thre+K_shift_1#20#0&HS&thre*OBV#0#0&thre+D_shift_1#10#0&HS&thre*D_shift_1#80#1&HS&thre+D_shift_1#10#0&HS&thre*K_shift_1#90#1&thre+D_shift_1#10#0&HS&thre*OBV#0#0&thre']\n",
      "['K#90#1&HS&thre*D_shift_1#70#1&thre+K#90#1&HS&thre*OBV#0#0&thre+K_shift_1#10#0&HS&thre*D_shift_1#70#1&thre+K_shift_1#10#0&HS&thre*OBV#0#0&thre', 'D_shift_1#80#1&HS&thre+K_shift_1#90#1&thre+OBV#0#0&thre']\n",
      "['K#90#1&HS&thre*D_shift_1#70#1&thre+K#90#1&HS&thre*OBV#0#0&thre+K_shift_1#10#0&HS&thre*D_shift_1#70#1&thre+K_shift_1#10#0&HS&thre*OBV#0#0&thre', 'K_shift_1#20#0&HS&thre*D_shift_1#80#1&HS&thre+K_shift_1#20#0&HS&thre*K_shift_1#90#1&thre+K_shift_1#20#0&HS&thre*OBV#0#0&thre']\n",
      "['K#90#1&HS&thre*D_shift_1#70#1&thre+K#90#1&HS&thre*OBV#0#0&thre+K_shift_1#10#0&HS&thre*D_shift_1#70#1&thre+K_shift_1#10#0&HS&thre*OBV#0#0&thre+D_shift_1#10#0&HS&thre*D_shift_1#70#1&thre+D_shift_1#10#0&HS&thre*OBV#0#0&thre', 'D_shift_1#10#0&HS&thre*D_shift_1#80#1&HS&thre+D_shift_1#10#0&HS&thre*K_shift_1#90#1&thre+D_shift_1#10#0&HS&thre*OBV#0#0&thre']\n",
      "['K#90#1&HS&thre*D_shift_1#70#1&thre+K_shift_1#10#0&HS&thre*D_shift_1#70#1&thre+D_shift_1#10#0&HS&thre*D_shift_1#70#1&thre', 'D_shift_1#80#1&HS&thre+K_shift_1#90#1&thre']\n",
      "['K#90#1&HS&thre*D_shift_1#70#1&thre+K_shift_1#10#0&HS&thre*D_shift_1#70#1&thre+D_shift_1#10#0&HS&thre*D_shift_1#70#1&thre', 'K_shift_1#20#0&HS&thre*D_shift_1#80#1&HS&thre+K_shift_1#20#0&HS&thre*K_shift_1#90#1&thre+D_shift_1#10#0&HS&thre*D_shift_1#80#1&HS&thre+D_shift_1#10#0&HS&thre*K_shift_1#90#1&thre']\n",
      "['K#90#1&HS&thre*D_shift_1#70#1&thre+K#90#1&HS&thre*OBV#0#0&thre+D_shift_1#10#0&HS&thre*D_shift_1#70#1&thre+D_shift_1#10#0&HS&thre*OBV#0#0&thre', 'close_MA_10_shift_1#close_MA_10#1&HS&diff*K_shift_1#90#1&thre+close_MA_10_shift_1#close_MA_10#1&HS&diff*OBV#0#0&thre+K_shift_1#20#0&HS&thre*K_shift_1#90#1&thre+K_shift_1#20#0&HS&thre*OBV#0#0&thre+D_shift_1#10#0&HS&thre*K_shift_1#90#1&thre+D_shift_1#10#0&HS&thre*OBV#0#0&thre']\n",
      "['K#90#1&HS&thre*OBV#0#0&thre+K_shift_1#10#0&HS&thre*OBV#0#0&thre+D_shift_1#10#0&HS&thre*OBV#0#0&thre', 'close_MA_10_shift_1#close_MA_10#1&HS&diff*D_shift_1#80#1&HS&thre+close_MA_10_shift_1#close_MA_10#1&HS&diff*K_shift_1#90#1&thre+close_MA_10_shift_1#close_MA_10#1&HS&diff*OBV#0#0&thre+D_shift_1#10#0&HS&thre*D_shift_1#80#1&HS&thre+D_shift_1#10#0&HS&thre*K_shift_1#90#1&thre+D_shift_1#10#0&HS&thre*OBV#0#0&thre']\n",
      "['K_shift_1#10#0&HS&thre*D_shift_1#70#1&thre+K_shift_1#10#0&HS&thre*OBV#0#0&thre+D_shift_1#10#0&HS&thre*D_shift_1#70#1&thre+D_shift_1#10#0&HS&thre*OBV#0#0&thre', 'close_MA_10_shift_1#close_MA_10#1&HS&diff*D_shift_1#80#1&HS&thre+close_MA_10_shift_1#close_MA_10#1&HS&diff*K_shift_1#90#1&thre+close_MA_10_shift_1#close_MA_10#1&HS&diff*OBV#0#0&thre+D_shift_1#10#0&HS&thre*D_shift_1#80#1&HS&thre+D_shift_1#10#0&HS&thre*K_shift_1#90#1&thre+D_shift_1#10#0&HS&thre*OBV#0#0&thre']\n",
      "['K#90#1&HS&thre+K_shift_1#10#0&HS&thre', 'close_MA_10_shift_1#close_MA_10#1&HS&diff*D_shift_1#80#1&HS&thre+close_MA_10_shift_1#close_MA_10#1&HS&diff*K_shift_1#90#1&thre+close_MA_10_shift_1#close_MA_10#1&HS&diff*OBV#0#0&thre+K_shift_1#20#0&HS&thre*D_shift_1#80#1&HS&thre+K_shift_1#20#0&HS&thre*K_shift_1#90#1&thre+K_shift_1#20#0&HS&thre*OBV#0#0&thre']\n",
      "['D_shift_1#10#0&HS&thre*D_shift_1#70#1&thre+D_shift_1#10#0&HS&thre*OBV#0#0&thre', 'close_MA_10_shift_1#close_MA_10#1&HS&diff*D_shift_1#80#1&HS&thre+close_MA_10_shift_1#close_MA_10#1&HS&diff*K_shift_1#90#1&thre+close_MA_10_shift_1#close_MA_10#1&HS&diff*OBV#0#0&thre+K_shift_1#20#0&HS&thre*D_shift_1#80#1&HS&thre+K_shift_1#20#0&HS&thre*K_shift_1#90#1&thre+K_shift_1#20#0&HS&thre*OBV#0#0&thre+D_shift_1#10#0&HS&thre*D_shift_1#80#1&HS&thre+D_shift_1#10#0&HS&thre*K_shift_1#90#1&thre+D_shift_1#10#0&HS&thre*OBV#0#0&thre']\n",
      "['K#90#1&HS&thre*D_shift_1#70#1&thre+K_shift_1#10#0&HS&thre*D_shift_1#70#1&thre+D_shift_1#10#0&HS&thre*D_shift_1#70#1&thre', 'close_MA_10_shift_1#close_MA_10#1&HS&diff*K_shift_1#90#1&thre+K_shift_1#20#0&HS&thre*K_shift_1#90#1&thre+D_shift_1#10#0&HS&thre*K_shift_1#90#1&thre']\n",
      "['K#90#1&HS&thre*D_shift_1#70#1&thre+K#90#1&HS&thre*OBV#0#0&thre+K_shift_1#10#0&HS&thre*D_shift_1#70#1&thre+K_shift_1#10#0&HS&thre*OBV#0#0&thre+D_shift_1#10#0&HS&thre*D_shift_1#70#1&thre+D_shift_1#10#0&HS&thre*OBV#0#0&thre', 'close_MA_10_shift_1#close_MA_10#1&HS&diff*K_shift_1#90#1&thre+close_MA_10_shift_1#close_MA_10#1&HS&diff*OBV#0#0&thre+D_shift_1#10#0&HS&thre*K_shift_1#90#1&thre+D_shift_1#10#0&HS&thre*OBV#0#0&thre']\n",
      "['K#90#1&HS&thre*D_shift_1#70#1&thre+K#90#1&HS&thre*OBV#0#0&thre+D_shift_1#10#0&HS&thre*D_shift_1#70#1&thre+D_shift_1#10#0&HS&thre*OBV#0#0&thre', 'close_MA_10_shift_1#close_MA_10#1&HS&diff+K_shift_1#20#0&HS&thre+D_shift_1#10#0&HS&thre']\n",
      "['K#90#1&HS&thre*D_shift_1#70#1&thre+K_shift_1#10#0&HS&thre*D_shift_1#70#1&thre+D_shift_1#10#0&HS&thre*D_shift_1#70#1&thre', 'close_MA_10_shift_1#close_MA_10#1&HS&diff*D_shift_1#80#1&HS&thre+K_shift_1#20#0&HS&thre*D_shift_1#80#1&HS&thre+D_shift_1#10#0&HS&thre*D_shift_1#80#1&HS&thre']\n",
      "['K#90#1&HS&thre+K_shift_1#10#0&HS&thre+D_shift_1#10#0&HS&thre', 'close_MA_10_shift_1#close_MA_10#1&HS&diff*D_shift_1#80#1&HS&thre+close_MA_10_shift_1#close_MA_10#1&HS&diff*K_shift_1#90#1&thre+K_shift_1#20#0&HS&thre*D_shift_1#80#1&HS&thre+K_shift_1#20#0&HS&thre*K_shift_1#90#1&thre+D_shift_1#10#0&HS&thre*D_shift_1#80#1&HS&thre+D_shift_1#10#0&HS&thre*K_shift_1#90#1&thre']\n",
      "['K#90#1&HS&thre+D_shift_1#10#0&HS&thre', 'close_MA_10_shift_1#close_MA_10#1&HS&diff*D_shift_1#80#1&HS&thre+close_MA_10_shift_1#close_MA_10#1&HS&diff*K_shift_1#90#1&thre+close_MA_10_shift_1#close_MA_10#1&HS&diff*OBV#0#0&thre+K_shift_1#20#0&HS&thre*D_shift_1#80#1&HS&thre+K_shift_1#20#0&HS&thre*K_shift_1#90#1&thre+K_shift_1#20#0&HS&thre*OBV#0#0&thre+D_shift_1#10#0&HS&thre*D_shift_1#80#1&HS&thre+D_shift_1#10#0&HS&thre*K_shift_1#90#1&thre+D_shift_1#10#0&HS&thre*OBV#0#0&thre']\n",
      "['D_shift_1#70#1&thre+OBV#0#0&thre', 'close_MA_10_shift_1#close_MA_10#1&HS&diff*D_shift_1#80#1&HS&thre+close_MA_10_shift_1#close_MA_10#1&HS&diff*K_shift_1#90#1&thre+close_MA_10_shift_1#close_MA_10#1&HS&diff*OBV#0#0&thre+D_shift_1#10#0&HS&thre*D_shift_1#80#1&HS&thre+D_shift_1#10#0&HS&thre*K_shift_1#90#1&thre+D_shift_1#10#0&HS&thre*OBV#0#0&thre']\n",
      "['K#90#1&HS&thre*D_shift_1#70#1&thre+K_shift_1#10#0&HS&thre*D_shift_1#70#1&thre', 'close_MA_10_shift_1#close_MA_10#1&HS&diff*D_shift_1#80#1&HS&thre+close_MA_10_shift_1#close_MA_10#1&HS&diff*K_shift_1#90#1&thre+K_shift_1#20#0&HS&thre*D_shift_1#80#1&HS&thre+K_shift_1#20#0&HS&thre*K_shift_1#90#1&thre']\n",
      "['K#90#1&HS&thre*D_shift_1#70#1&thre+K_shift_1#10#0&HS&thre*D_shift_1#70#1&thre+D_shift_1#10#0&HS&thre*D_shift_1#70#1&thre', 'close_MA_10_shift_1#close_MA_10#1&HS&diff+K_shift_1#20#0&HS&thre+D_shift_1#10#0&HS&thre']\n",
      "['K#90#1&HS&thre*D_shift_1#70#1&thre+K#90#1&HS&thre*OBV#0#0&thre+K_shift_1#10#0&HS&thre*D_shift_1#70#1&thre+K_shift_1#10#0&HS&thre*OBV#0#0&thre+D_shift_1#10#0&HS&thre*D_shift_1#70#1&thre+D_shift_1#10#0&HS&thre*OBV#0#0&thre', 'D_shift_1#80#1&HS&thre+K_shift_1#90#1&thre+OBV#0#0&thre']\n",
      "['K#90#1&HS&thre*OBV#0#0&thre+D_shift_1#10#0&HS&thre*OBV#0#0&thre', 'close_MA_10_shift_1#close_MA_10#1&HS&diff*D_shift_1#80#1&HS&thre+close_MA_10_shift_1#close_MA_10#1&HS&diff*K_shift_1#90#1&thre+close_MA_10_shift_1#close_MA_10#1&HS&diff*OBV#0#0&thre+K_shift_1#20#0&HS&thre*D_shift_1#80#1&HS&thre+K_shift_1#20#0&HS&thre*K_shift_1#90#1&thre+K_shift_1#20#0&HS&thre*OBV#0#0&thre+D_shift_1#10#0&HS&thre*D_shift_1#80#1&HS&thre+D_shift_1#10#0&HS&thre*K_shift_1#90#1&thre+D_shift_1#10#0&HS&thre*OBV#0#0&thre']\n"
     ]
    },
    {
     "ename": "TypeError",
     "evalue": "get_remain_stra() missing 1 required positional argument: '_s_long'",
     "output_type": "error",
     "traceback": [
      "\u001b[0;31m---------------------------------------------------------------------------\u001b[0m",
      "\u001b[0;31mTypeError\u001b[0m                                 Traceback (most recent call last)",
      "\u001b[0;32m<ipython-input-4-60c6f66b13ad>\u001b[0m in \u001b[0;36m<module>\u001b[0;34m\u001b[0m\n\u001b[1;32m      2\u001b[0m     \u001b[0mresult\u001b[0m\u001b[0;34m,\u001b[0m\u001b[0mresult2\u001b[0m \u001b[0;34m=\u001b[0m \u001b[0mgss\u001b[0m\u001b[0;34m.\u001b[0m\u001b[0mget_split_expre_list\u001b[0m\u001b[0;34m(\u001b[0m\u001b[0mremain_stra\u001b[0m\u001b[0;34m)\u001b[0m\u001b[0;34m\u001b[0m\u001b[0;34m\u001b[0m\u001b[0m\n\u001b[1;32m      3\u001b[0m     \u001b[0mmain\u001b[0m\u001b[0;34m.\u001b[0m\u001b[0mcircle_expre\u001b[0m\u001b[0;34m(\u001b[0m\u001b[0moff_line\u001b[0m \u001b[0;34m=\u001b[0m \u001b[0;32mTrue\u001b[0m\u001b[0;34m,\u001b[0m\u001b[0mresult_path\u001b[0m \u001b[0;34m=\u001b[0m \u001b[0mup_file\u001b[0m\u001b[0;34m+\u001b[0m\u001b[0;34m'/result/split'\u001b[0m\u001b[0;34m)\u001b[0m\u001b[0;34m\u001b[0m\u001b[0;34m\u001b[0m\u001b[0m\n\u001b[0;32m----> 4\u001b[0;31m     \u001b[0mremain_stra\u001b[0m \u001b[0;34m=\u001b[0m \u001b[0mget_remain_stra\u001b[0m\u001b[0;34m(\u001b[0m\u001b[0mresult\u001b[0m\u001b[0;34m)\u001b[0m\u001b[0;34m\u001b[0m\u001b[0;34m\u001b[0m\u001b[0m\n\u001b[0m",
      "\u001b[0;31mTypeError\u001b[0m: get_remain_stra() missing 1 required positional argument: '_s_long'"
     ]
    }
   ],
   "source": [
    "while(len(remain_stra)>0):\n",
    "    result,result2 = gss.get_split_expre_list(remain_stra)\n",
    "    result,result2 = clear_result(result,result2)\n",
    "    save_expre(result,result2)\n",
    "    main.circle_expre(off_line = True,result_path = up_file+'/result/split')\n",
    "    remain_stra = get_remain_stra(result,_s_long)"
   ]
  },
  {
   "cell_type": "code",
   "execution_count": 12,
   "metadata": {},
   "outputs": [],
   "source": []
  }
 ],
 "metadata": {
  "kernelspec": {
   "display_name": "Python 3",
   "language": "python",
   "name": "python3"
  },
  "language_info": {
   "codemirror_mode": {
    "name": "ipython",
    "version": 3
   },
   "file_extension": ".py",
   "mimetype": "text/x-python",
   "name": "python",
   "nbconvert_exporter": "python",
   "pygments_lexer": "ipython3",
   "version": "3.7.7"
  }
 },
 "nbformat": 4,
 "nbformat_minor": 4
}
