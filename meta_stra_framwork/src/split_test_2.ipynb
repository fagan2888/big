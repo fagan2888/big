{
 "cells": [
  {
   "cell_type": "code",
   "execution_count": 27,
   "metadata": {},
   "outputs": [],
   "source": [
    "import re\n",
    "import numpy as np\n",
    "import pandas as pd\n",
    "import main\n",
    "import get_split_stra as gss\n",
    "from rqdata import up_file,now_file\n",
    "import get_zl_expre\n",
    "import copy\n",
    "\n",
    "def get_s(s):\n",
    "    s_ = re.split('\\[|\\]|,|\\'',s)\n",
    "    s1 = s_[2]\n",
    "    s2 = s_[5]\n",
    "    s1_1 = re.split('\\*',s1)\n",
    "    s2_1 = re.split('\\*',s2)\n",
    "    s1_2 = []\n",
    "    s2_2 = []\n",
    "\n",
    "    for i in range(len(s1_1)):\n",
    "        temp = re.split('\\+',s1_1[i])\n",
    "        s1_2.append(temp)\n",
    "\n",
    "    for i in range(len(s2_1)):\n",
    "        temp = re.split('\\+',s2_1[i])\n",
    "        s2_2.append(temp)\n",
    "    return(s1_1,s1_2,s2_1,s2_2)\n",
    "\n",
    "def get_result(s,s1_1,s1_2,s2_1,s2_2):\n",
    "    result_s = []\n",
    "    result_b = []\n",
    "    #去小项\n",
    "    for i in range(len(s1_2)):\n",
    "        for j in range(len(s1_2[i])):\n",
    "            if j==0 and len(s1_2[i])==1:\n",
    "                if i==0:\n",
    "                    temp_str = s.replace(s1_2[i][j]+'*','')\n",
    "                else:\n",
    "                    temp_str = s.replace('*'+s1_2[i][j],'')\n",
    "            elif j==0:\n",
    "                temp_str = s.replace(s1_2[i][j]+'+','')\n",
    "            else:\n",
    "                temp_str = s.replace('+'+s1_2[i][j],'')\n",
    "            result_s.append(temp_str)\n",
    "    #去大项\n",
    "    for i in range(len(s1_2)):\n",
    "        if i==0:\n",
    "            temp_str = s.replace(s1_1[i]+'*','')\n",
    "        else:\n",
    "            temp_str = s.replace('*'+s1_1[i],'')\n",
    "        result_b.append(temp_str)\n",
    "\n",
    "    #去小项\n",
    "    for i in range(len(s2_2)):\n",
    "        for j in range(len(s2_2[i])):\n",
    "            if j==0 and len(s2_2[i])==1:\n",
    "                if i==0:\n",
    "                    temp_str = s.replace(s2_2[i][j]+'*','')\n",
    "                else:\n",
    "                    temp_str = s.replace('*'+s2_2[i][j],'')\n",
    "            elif j==0:\n",
    "                temp_str = s.replace(s2_2[i][j]+'+','')\n",
    "            else:\n",
    "                temp_str = s.replace('+'+s2_2[i][j],'')\n",
    "            result_s.append(temp_str)\n",
    "    #去大项\n",
    "    for i in range(len(s2_2)):\n",
    "        if i==0:\n",
    "            temp_str = s.replace(s2_1[i]+'*','')\n",
    "        else:\n",
    "            temp_str = s.replace('*'+s2_1[i],'')\n",
    "        result_b.append(temp_str)          \n",
    "\n",
    "    return(result_b,result_s)\n",
    "\n",
    "def delete_bracket(result):\n",
    "    result2 = []\n",
    "    for num in range(len(result)):\n",
    "        s = result[num]\n",
    "        s_ = re.split('\\[|\\]|,|\\'',s)\n",
    "        s1 = s_[2]\n",
    "        s2 = s_[5]\n",
    "        s1_1 = re.split('\\*',s1)\n",
    "        s2_1 = re.split('\\*',s2)\n",
    "        s1_2 = []\n",
    "        s2_2 = []\n",
    "\n",
    "        for i in range(len(s1_1)):\n",
    "            temp = re.split('\\+',s1_1[i])\n",
    "            s1_2.append(temp)\n",
    "\n",
    "        for i in range(len(s2_1)):\n",
    "            temp = re.split('\\+',s2_1[i])\n",
    "            s2_2.append(temp)\n",
    "\n",
    "\n",
    "        a_result = ''\n",
    "        b_result = ''\n",
    "        #a\n",
    "        if len(s1_2)==1:\n",
    "            for i in range(len(s1_2[0])):\n",
    "                a_result = a_result+ '+'+s1_2[0][i]\n",
    "            a_result=a_result[1:]\n",
    "        elif len(s1_2)==2:\n",
    "            for i in range(len(s1_2[0])):\n",
    "                for j in range(len(s1_2[1])):\n",
    "                    a_result = a_result+ '+'+s1_2[0][i]+'*'+s1_2[1][j]\n",
    "            a_result=a_result[1:]\n",
    "        elif len(s1_2)==3:\n",
    "            for i in range(len(s1_2[0])):\n",
    "                for j in range(len(s1_2[1])):\n",
    "                    for k in range(len(s1_2[2])):\n",
    "                        a_result = a_result+ '+'+s1_2[0][i]+'*'+s1_2[1][j]+'*'+s1_2[2][k]\n",
    "            a_result=a_result[1:]\n",
    "        elif len(s1_2)==4:\n",
    "            for i in range(len(s1_2[0])):\n",
    "                for j in range(len(s1_2[1])):\n",
    "                    for k in range(len(s1_2[2])):\n",
    "                        for h in range(len(s1_2[2])):\n",
    "                            a_result = a_result+ '+'+s1_2[0][i]+'*'+s1_2[1][j]+'*'+s1_2[2][k]+'*'+s1_2[3][h]\n",
    "            a_result=a_result[1:]\n",
    "\n",
    "\n",
    "        #b\n",
    "        if len(s2_2)==1:\n",
    "            for i in range(len(s2_2[0])):\n",
    "                b_result = b_result+ '+'+s2_2[0][i]\n",
    "            b_result=b_result[1:]\n",
    "        elif len(s2_2)==2:\n",
    "            for i in range(len(s2_2[0])):\n",
    "                for j in range(len(s2_2[1])):\n",
    "                    b_result = b_result+ '+'+s2_2[0][i]+'*'+s2_2[1][j]\n",
    "            b_result=b_result[1:]\n",
    "        elif len(s2_2)==3:\n",
    "            for i in range(len(s2_2[0])):\n",
    "                for j in range(len(s2_2[1])):\n",
    "                    for k in range(len(s2_2[2])):\n",
    "                        b_result = b_result+ '+'+s2_2[0][i]+'*'+s2_2[1][j]+'*'+s2_2[2][k]\n",
    "            b_result=b_result[1:]\n",
    "        elif len(s2_2)==4:\n",
    "            for i in range(len(s2_2[0])):\n",
    "                for j in range(len(s2_2[1])):\n",
    "                    for k in range(len(s2_2[2])):\n",
    "                        for h in range(len(s2_2[2])):\n",
    "                            b_result = b_result+ '+'+s2_2[0][i]+'*'+s2_2[1][j]+'*'+s2_2[2][k]+'*'+s2_2[3][h]\n",
    "            b_result=b_result[1:]   \n",
    "\n",
    "        temp = '[\\''+a_result+'\\',\\''+b_result+'\\']'\n",
    "        temp = temp.replace('%','*')\n",
    "        result2.append(temp)\n",
    "    return result2\n",
    "\n",
    "def get_split_expre(s,split_type = 'big'):\n",
    "    s1_1,s1_2,s2_1,s2_2 = get_s(s)\n",
    "    result_b,result_s = get_result(s,s1_1,s1_2,s2_1,s2_2)\n",
    "    result2_b,result2_s =  delete_bracket(result_b),delete_bracket(result_s)\n",
    "    if(split_type == 'big'):\n",
    "        result = copy.copy(result_b)\n",
    "        result2 = copy.copy(result2_b)\n",
    "    elif(split_type == 'small'):\n",
    "        result = copy.copy(result_s)\n",
    "        result2 = copy.copy(result2_s)\n",
    "    else:\n",
    "        print('Error split type')\n",
    "        return 0\n",
    "        \n",
    "    expre_split= {}\n",
    "    expre_split['expre'] = result2\n",
    "    expre_fra = pd.DataFrame(expre_split)\n",
    "    expre_fra.to_excel(up_file+'/result/split'+'/expre_2.xlsx')\n",
    "    return result,result2\n",
    "\n",
    "def get_split_expre_list(ori_result,split_type = 'big'):\n",
    "    result_list,result2_list,mother_expre,mother_expre_list = [],[],[],[]\n",
    "    for _s in ori_result:\n",
    "        result,result2 = get_split_expre(_s,split_type = split_type)\n",
    "        result_list += result\n",
    "        result2_list += result2\n",
    "        mother_expre += [_s]*len(result)\n",
    "    output_result_list = np.array(get_sort_norep(result_list))\n",
    "    for _r in np.array(list(set(result_list))):\n",
    "        mother_expre_list.append(mother_expre[result_list.index(_r)])\n",
    "    '''\n",
    "    expre_split= {}\n",
    "    expre_split['expre_long'] = list(set(result2_list))\n",
    "    expre_split['expre_short'] = list(set(result_list))\n",
    "    expre_fra = pd.DataFrame(expre_split)\n",
    "    expre_fra.to_excel('/Users/wode/Desktop/expre_2.xlsx')\n",
    "    '''\n",
    "    return output_result_list,np.array(get_sort_norep(result2_list)),mother_expre_list\n",
    "\n",
    "\n",
    "####有问题######\n",
    "def get_remain_stra(result,_s_long,com_thre = 0.99):\n",
    "    unit = pd.read_excel(up_file+'/result/split'+'/unit.xlsx')\n",
    "    unit_columns = unit.columns.values\n",
    "    ori_expre_list = get_zl_expre.get_expression_list_split()\n",
    "    #ori_expre_list.append(_s_long)\n",
    "    expre_list = [str(x) for x in ori_expre_list]\n",
    "    if(str(_s_long) in expre_list):\n",
    "        expre_list.remove(str(_s_long))\n",
    "    expre_list.append(str(_s_long))\n",
    "    pure_uc = [x[:-19] for x in unit_columns]\n",
    "    uc_index = []\n",
    "    for r in expre_list:\n",
    "        uc_index.append(pure_uc.index(r))\n",
    "    use_uc =  get_sort_norep(unit_columns[uc_index]) \n",
    "    use_unit = unit.loc[:,use_uc]\n",
    "    remain_stra = use_unit.corr()[(use_unit.corr().loc[:,use_uc[-1]])>com_thre]\n",
    "    remain_stra_name = remain_stra.index.values[:-1]\n",
    "    remain_stra_name_pure =[x[:-19] for x in remain_stra_name]\n",
    "    remain_stra_name_short = []\n",
    "    for _r in remain_stra_name_pure:\n",
    "        remain_stra_name_short.append(result[expre_list.index(_r)])\n",
    "    return get_sort_norep(remain_stra_name_short),get_sort_norep(remain_stra_name_pure)\n",
    "\n",
    "def clear_result(result,result2):\n",
    "    \n",
    "    new_result = []\n",
    "    new_result2 = []\n",
    "    unit = pd.read_excel(up_file+'/result/split'+'/unit.xlsx')\n",
    "    unit_columns = unit.columns.values\n",
    "    pure_uc = [x[:-19] for x in unit_columns]\n",
    "    for i in range(len(result2)):\n",
    "        com_e = [result2[i].split(',')[0].strip(\"[]''\"),result2[i].split(',')[1].strip(\"[]''\")]\n",
    "        if(str(com_e) not in pure_uc):\n",
    "            new_result.append(result[i])\n",
    "            new_result2.append(result2[i])\n",
    "    return new_result,new_result2\n",
    "\n",
    "def save_expre(result,result2,save_name = 'expre_2'):\n",
    "    expre_split= {}\n",
    "    expre_split['expre_long'] = result2\n",
    "    expre_split['expre_short'] = result\n",
    "    expre_fra = pd.DataFrame(expre_split)\n",
    "    expre_fra.to_excel(up_file+'/result/split/'+save_name+'.xlsx')\n",
    "\n",
    "def all_result_init():\n",
    "    re = {}\n",
    "    re['long'] = []\n",
    "    re['short'] = []\n",
    "    re['mother'] = []\n",
    "    return re\n",
    "\n",
    "def all_result_add(re,result,result2,mother_list):\n",
    "    re['long'] += result2.tolist()\n",
    "    re['short'] += result.tolist()\n",
    "    re['mother'] += mother_list\n",
    "    return re\n",
    "\n",
    "#得到不改变顺序的不重复元素列表\n",
    "def get_sort_norep(l1):\n",
    "    l2 = [] \n",
    "    [l2.append(i) for i in l1 if not i in l2] \n",
    "    return(l2)\n",
    "\n",
    "def get_oneside_sig(s_list_list,side = 'HS'):\n",
    "    new_s2_list_list = []\n",
    "    new_s1_list_list = []\n",
    "    for s_list in s_list_list:\n",
    "        new_s_list = []\n",
    "        new_s1 = ''\n",
    "        for s in s_list:\n",
    "            if(side == 'HS' and 'HS' in s):\n",
    "                new_s_list.append(s)\n",
    "            elif(side == 'stock' and 'HS' not in s):\n",
    "                new_s_list.append(s)\n",
    "            elif(side == 'HS' and 'HS' not in s):\n",
    "                new_s_list.append('')\n",
    "            elif(side == 'stock' and 'HS' in s):\n",
    "                new_s_list.append('')\n",
    "                \n",
    "        new_s2_list_list.append(new_s_list)\n",
    "        new_s1 += new_s_list[0]\n",
    "        for i in range(1,len(new_s_list)):\n",
    "            new_s1 += '+'+new_s_list[i]\n",
    "        new_s1_list_list.append(new_s1)\n",
    "    return new_s1_list_list,new_s2_list_list"
   ]
  },
  {
   "cell_type": "code",
   "execution_count": 6,
   "metadata": {},
   "outputs": [],
   "source": [
    "s = \"['K#90#1&HS&thre+K_shift_1#10#0&HS&thre+D_shift_1#10#0&HS&thre*D_shift_1#70#1&thre+OBV#0#0&thre', 'close_MA_10_shift_1#close_MA_10#1&HS&diff+K_shift_1#20#0&HS&thre+D_shift_1#10#0&HS&thre*D_shift_1#80#1&HS&thre+K_shift_1#90#1&thre+OBV#0#0&thre']\"\n",
    "_s_long = \"['K#90#1&HS&thre*D_shift_1#70#1&thre+K#90#1&HS&thre*OBV#0#0&thre+K_shift_1#10#0&HS&thre*D_shift_1#70#1&thre+K_shift_1#10#0&HS&thre*OBV#0#0&thre+D_shift_1#10#0&HS&thre*D_shift_1#70#1&thre+D_shift_1#10#0&HS&thre*OBV#0#0&thre', 'close_MA_10_shift_1#close_MA_10#1&HS&diff*D_shift_1#80#1&HS&thre+close_MA_10_shift_1#close_MA_10#1&HS&diff*K_shift_1#90#1&thre+close_MA_10_shift_1#close_MA_10#1&HS&diff*OBV#0#0&thre+K_shift_1#20#0&HS&thre*D_shift_1#80#1&HS&thre+K_shift_1#20#0&HS&thre*K_shift_1#90#1&thre+K_shift_1#20#0&HS&thre*OBV#0#0&thre+D_shift_1#10#0&HS&thre*D_shift_1#80#1&HS&thre+D_shift_1#10#0&HS&thre*K_shift_1#90#1&thre+D_shift_1#10#0&HS&thre*OBV#0#0&thre']\"\n",
    "result,result2 = gss.get_split_expre(s)"
   ]
  },
  {
   "cell_type": "code",
   "execution_count": 2,
   "metadata": {},
   "outputs": [],
   "source": [
    "s = \"['K#90#1&HS&thre+D_shift_1#10#0&HS&thre', 'close_MA_10_shift_1#close_MA_10#1&HS&diff+K_shift_1#20#0&HS&thre+D_shift_1#10#0&HS&thre*D_shift_1#80#1&HS&thre+K_shift_1#90#1&thre]\"\n",
    "_s_long = \"['K#90#1&HS&thre+D_shift_1#10#0&HS&thre', 'close_MA_10_shift_1#close_MA_10#1&HS&diff*D_shift_1#80#1&HS&thre+close_MA_10_shift_1#close_MA_10#1&HS&diff*K_shift_1#90#1&thre+K_shift_1#20#0&HS&thre*D_shift_1#80#1&HS&thre+K_shift_1#20#0&HS&thre*K_shift_1#90#1&thre+D_shift_1#10#0&HS&thre*D_shift_1#80#1&HS&thre+D_shift_1#10#0&HS&thre*K_shift_1#90#1&thre']\"\n",
    "s1_1,s1_2,s2_1,s2_2 = get_s(s)\n",
    "result_b,result_s = get_result(s,s1_1,s1_2,s2_1,s2_2)"
   ]
  },
  {
   "cell_type": "code",
   "execution_count": null,
   "metadata": {
    "collapsed": true,
    "jupyter": {
     "outputs_hidden": true
    }
   },
   "outputs": [
    {
     "name": "stderr",
     "output_type": "stream",
     "text": [
      "[2020-07-09 10:52:46.614863] WARN: user_system_log: 配置'base.benchmark'已被弃用，使用'mod.sys_analyser.benchmark'代替\n"
     ]
    },
    {
     "name": "stdout",
     "output_type": "stream",
     "text": [
      "['K#90#1&HS&thre+D_shift_1#10#0&HS&thre', 'close_MA_10_shift_1#close_MA_10#1&HS&diff*D_shift_1#80#1&HS&thre+close_MA_10_shift_1#close_MA_10#1&HS&diff*K_shift_1#90#1&thre+K_shift_1#20#0&HS&thre*D_shift_1#80#1&HS&thre+K_shift_1#20#0&HS&thre*K_shift_1#90#1&thre+D_shift_1#10#0&HS&thre*D_shift_1#80#1&HS&thre+D_shift_1#10#0&HS&thre*K_shift_1#90#1&thre']\n"
     ]
    },
    {
     "name": "stderr",
     "output_type": "stream",
     "text": [
      "[2020-07-09 10:53:08.956344] WARN: user_system_log: 配置'base.benchmark'已被弃用，使用'mod.sys_analyser.benchmark'代替\n"
     ]
    },
    {
     "name": "stdout",
     "output_type": "stream",
     "text": [
      "['K#90#1&HS&thre+D_shift_1#10#0&HS&thre', 'D_shift_1#80#1&HS&thre+K_shift_1#90#1&thre']\n"
     ]
    },
    {
     "name": "stderr",
     "output_type": "stream",
     "text": [
      "[2020-07-09 10:53:30.260852] WARN: user_system_log: 配置'base.benchmark'已被弃用，使用'mod.sys_analyser.benchmark'代替\n",
      "[2015-04-07 15:00:00.000000] WARN: user_system_log: 订单创建失败: 下单量为0\n",
      "[2015-04-23 15:00:00.000000] WARN: user_system_log: 订单创建失败: 下单量为0\n",
      "[2015-07-24 15:00:00.000000] WARN: user_system_log: 订单创建失败: 下单量为0\n",
      "[2015-10-21 15:00:00.000000] WARN: user_system_log: 订单创建失败: 下单量为0\n"
     ]
    },
    {
     "name": "stdout",
     "output_type": "stream",
     "text": [
      "['K#90#1&HS&thre+D_shift_1#10#0&HS&thre', 'close_MA_10_shift_1#close_MA_10#1&HS&diff+K_shift_1#20#0&HS&thre+D_shift_1#10#0&HS&thre']\n"
     ]
    },
    {
     "name": "stderr",
     "output_type": "stream",
     "text": [
      "[2020-07-09 10:53:48.461636] WARN: user_system_log: 配置'base.benchmark'已被弃用，使用'mod.sys_analyser.benchmark'代替\n",
      "[2020-07-09 10:54:10.405719] WARN: user_system_log: 配置'base.benchmark'已被弃用，使用'mod.sys_analyser.benchmark'代替\n"
     ]
    },
    {
     "name": "stdout",
     "output_type": "stream",
     "text": [
      "['D_shift_1#10#0&HS&thre', 'close_MA_10_shift_1#close_MA_10#1&HS&diff*D_shift_1#80#1&HS&thre+close_MA_10_shift_1#close_MA_10#1&HS&diff*K_shift_1#90#1&thre+K_shift_1#20#0&HS&thre*D_shift_1#80#1&HS&thre+K_shift_1#20#0&HS&thre*K_shift_1#90#1&thre+D_shift_1#10#0&HS&thre*D_shift_1#80#1&HS&thre+D_shift_1#10#0&HS&thre*K_shift_1#90#1&thre']\n"
     ]
    },
    {
     "name": "stderr",
     "output_type": "stream",
     "text": [
      "[2020-07-09 10:54:32.240495] WARN: user_system_log: 配置'base.benchmark'已被弃用，使用'mod.sys_analyser.benchmark'代替\n",
      "/Users/wode/Documents/signal_framework/big/meta_stra_framwork/src/sharpe_2.py:109: RuntimeWarning: divide by zero encountered in double_scalars\n",
      "  sharpe_ratio = (total_annualized_return - Rf / n) / (Annual_Volatility(line) / n)\n"
     ]
    },
    {
     "name": "stdout",
     "output_type": "stream",
     "text": [
      "['K#90#1&HS&thre', 'close_MA_10_shift_1#close_MA_10#1&HS&diff*D_shift_1#80#1&HS&thre+close_MA_10_shift_1#close_MA_10#1&HS&diff*K_shift_1#90#1&thre+K_shift_1#20#0&HS&thre*D_shift_1#80#1&HS&thre+K_shift_1#20#0&HS&thre*K_shift_1#90#1&thre']\n"
     ]
    },
    {
     "name": "stderr",
     "output_type": "stream",
     "text": [
      "[2020-07-09 10:54:46.163685] WARN: user_system_log: 配置'base.benchmark'已被弃用，使用'mod.sys_analyser.benchmark'代替\n"
     ]
    },
    {
     "name": "stdout",
     "output_type": "stream",
     "text": [
      "['K#90#1&HS&thre+D_shift_1#10#0&HS&thre', 'K_shift_1#20#0&HS&thre*D_shift_1#80#1&HS&thre+K_shift_1#20#0&HS&thre*K_shift_1#90#1&thre+D_shift_1#10#0&HS&thre*D_shift_1#80#1&HS&thre+D_shift_1#10#0&HS&thre*K_shift_1#90#1&thre']\n"
     ]
    },
    {
     "name": "stderr",
     "output_type": "stream",
     "text": [
      "[2020-07-09 10:55:08.120851] WARN: user_system_log: 配置'base.benchmark'已被弃用，使用'mod.sys_analyser.benchmark'代替\n",
      "[2017-02-23 15:00:00.000000] WARN: user_system_log: 订单创建失败: 下单量为0\n"
     ]
    },
    {
     "name": "stdout",
     "output_type": "stream",
     "text": [
      "['K#90#1&HS&thre+D_shift_1#10#0&HS&thre', 'close_MA_10_shift_1#close_MA_10#1&HS&diff*D_shift_1#80#1&HS&thre+close_MA_10_shift_1#close_MA_10#1&HS&diff*K_shift_1#90#1&thre+D_shift_1#10#0&HS&thre*D_shift_1#80#1&HS&thre+D_shift_1#10#0&HS&thre*K_shift_1#90#1&thre']\n"
     ]
    },
    {
     "name": "stderr",
     "output_type": "stream",
     "text": [
      "[2020-07-09 10:55:29.964117] WARN: user_system_log: 配置'base.benchmark'已被弃用，使用'mod.sys_analyser.benchmark'代替\n"
     ]
    },
    {
     "name": "stdout",
     "output_type": "stream",
     "text": [
      "['K#90#1&HS&thre', 'close_MA_10_shift_1#close_MA_10#1&HS&diff*D_shift_1#80#1&HS&thre+close_MA_10_shift_1#close_MA_10#1&HS&diff*K_shift_1#90#1&thre+K_shift_1#20#0&HS&thre*D_shift_1#80#1&HS&thre+K_shift_1#20#0&HS&thre*K_shift_1#90#1&thre']\n"
     ]
    },
    {
     "name": "stderr",
     "output_type": "stream",
     "text": [
      "[2020-07-09 10:55:51.832298] WARN: user_system_log: 配置'base.benchmark'已被弃用，使用'mod.sys_analyser.benchmark'代替\n"
     ]
    },
    {
     "name": "stdout",
     "output_type": "stream",
     "text": [
      "['K#90#1&HS&thre+D_shift_1#10#0&HS&thre', 'close_MA_10_shift_1#close_MA_10#1&HS&diff*K_shift_1#90#1&thre+K_shift_1#20#0&HS&thre*K_shift_1#90#1&thre+D_shift_1#10#0&HS&thre*K_shift_1#90#1&thre']\n"
     ]
    },
    {
     "name": "stderr",
     "output_type": "stream",
     "text": [
      "[2020-07-09 10:56:13.874500] WARN: user_system_log: 配置'base.benchmark'已被弃用，使用'mod.sys_analyser.benchmark'代替\n"
     ]
    },
    {
     "name": "stdout",
     "output_type": "stream",
     "text": [
      "['K#90#1&HS&thre+D_shift_1#10#0&HS&thre', 'close_MA_10_shift_1#close_MA_10#1&HS&diff*D_shift_1#80#1&HS&thre+K_shift_1#20#0&HS&thre*D_shift_1#80#1&HS&thre+D_shift_1#10#0&HS&thre*D_shift_1#80#1&HS&thre']\n"
     ]
    },
    {
     "name": "stderr",
     "output_type": "stream",
     "text": [
      "[2020-07-09 10:56:37.054673] WARN: user_system_log: 配置'base.benchmark'已被弃用，使用'mod.sys_analyser.benchmark'代替\n"
     ]
    },
    {
     "name": "stdout",
     "output_type": "stream",
     "text": [
      "['K#90#1&HS&thre', 'close_MA_10_shift_1#close_MA_10#1&HS&diff*D_shift_1#80#1&HS&thre+close_MA_10_shift_1#close_MA_10#1&HS&diff*K_shift_1#90#1&thre+K_shift_1#20#0&HS&thre*D_shift_1#80#1&HS&thre+K_shift_1#20#0&HS&thre*K_shift_1#90#1&thre']\n"
     ]
    },
    {
     "name": "stderr",
     "output_type": "stream",
     "text": [
      "[2020-07-09 10:57:05.644989] WARN: user_system_log: 配置'base.benchmark'已被弃用，使用'mod.sys_analyser.benchmark'代替\n"
     ]
    },
    {
     "name": "stdout",
     "output_type": "stream",
     "text": [
      "['K#90#1&HS&thre', 'K_shift_1#20#0&HS&thre*D_shift_1#80#1&HS&thre+K_shift_1#20#0&HS&thre*K_shift_1#90#1&thre']\n"
     ]
    },
    {
     "name": "stderr",
     "output_type": "stream",
     "text": [
      "[2020-07-09 10:57:27.209664] WARN: user_system_log: 配置'base.benchmark'已被弃用，使用'mod.sys_analyser.benchmark'代替\n",
      "[2017-02-23 15:00:00.000000] WARN: user_system_log: 订单创建失败: 下单量为0\n"
     ]
    },
    {
     "name": "stdout",
     "output_type": "stream",
     "text": [
      "['K#90#1&HS&thre', 'close_MA_10_shift_1#close_MA_10#1&HS&diff*D_shift_1#80#1&HS&thre+close_MA_10_shift_1#close_MA_10#1&HS&diff*K_shift_1#90#1&thre']\n"
     ]
    },
    {
     "name": "stderr",
     "output_type": "stream",
     "text": [
      "[2020-07-09 10:57:50.287743] WARN: user_system_log: 配置'base.benchmark'已被弃用，使用'mod.sys_analyser.benchmark'代替\n"
     ]
    },
    {
     "name": "stdout",
     "output_type": "stream",
     "text": [
      "['K#90#1&HS&thre', 'close_MA_10_shift_1#close_MA_10#1&HS&diff*K_shift_1#90#1&thre+K_shift_1#20#0&HS&thre*K_shift_1#90#1&thre']\n"
     ]
    },
    {
     "name": "stderr",
     "output_type": "stream",
     "text": [
      "[2020-07-09 10:58:14.033125] WARN: user_system_log: 配置'base.benchmark'已被弃用，使用'mod.sys_analyser.benchmark'代替\n"
     ]
    },
    {
     "name": "stdout",
     "output_type": "stream",
     "text": [
      "['K#90#1&HS&thre', 'close_MA_10_shift_1#close_MA_10#1&HS&diff*D_shift_1#80#1&HS&thre+K_shift_1#20#0&HS&thre*D_shift_1#80#1&HS&thre']\n"
     ]
    },
    {
     "name": "stderr",
     "output_type": "stream",
     "text": [
      "[2020-07-09 10:58:37.742019] WARN: user_system_log: 配置'base.benchmark'已被弃用，使用'mod.sys_analyser.benchmark'代替\n"
     ]
    },
    {
     "name": "stdout",
     "output_type": "stream",
     "text": [
      "['D_shift_1#10#0&HS&thre', 'close_MA_10_shift_1#close_MA_10#1&HS&diff*D_shift_1#80#1&HS&thre+close_MA_10_shift_1#close_MA_10#1&HS&diff*K_shift_1#90#1&thre+D_shift_1#10#0&HS&thre*D_shift_1#80#1&HS&thre+D_shift_1#10#0&HS&thre*K_shift_1#90#1&thre']\n"
     ]
    },
    {
     "name": "stderr",
     "output_type": "stream",
     "text": [
      "[2020-07-09 10:59:01.187538] WARN: user_system_log: 配置'base.benchmark'已被弃用，使用'mod.sys_analyser.benchmark'代替\n"
     ]
    },
    {
     "name": "stdout",
     "output_type": "stream",
     "text": [
      "['K#90#1&HS&thre+D_shift_1#10#0&HS&thre', 'D_shift_1#10#0&HS&thre*D_shift_1#80#1&HS&thre+D_shift_1#10#0&HS&thre*K_shift_1#90#1&thre']\n"
     ]
    },
    {
     "name": "stderr",
     "output_type": "stream",
     "text": [
      "[2020-07-09 10:59:15.362531] WARN: user_system_log: 配置'base.benchmark'已被弃用，使用'mod.sys_analyser.benchmark'代替\n",
      "[2017-02-23 15:00:00.000000] WARN: user_system_log: 订单创建失败: 下单量为0\n"
     ]
    },
    {
     "name": "stdout",
     "output_type": "stream",
     "text": [
      "['K#90#1&HS&thre+D_shift_1#10#0&HS&thre', 'close_MA_10_shift_1#close_MA_10#1&HS&diff*K_shift_1#90#1&thre+D_shift_1#10#0&HS&thre*K_shift_1#90#1&thre']\n"
     ]
    },
    {
     "name": "stderr",
     "output_type": "stream",
     "text": [
      "[2020-07-09 10:59:40.716283] WARN: user_system_log: 配置'base.benchmark'已被弃用，使用'mod.sys_analyser.benchmark'代替\n"
     ]
    },
    {
     "name": "stdout",
     "output_type": "stream",
     "text": [
      "['K#90#1&HS&thre+D_shift_1#10#0&HS&thre', 'close_MA_10_shift_1#close_MA_10#1&HS&diff*D_shift_1#80#1&HS&thre+D_shift_1#10#0&HS&thre*D_shift_1#80#1&HS&thre']\n"
     ]
    },
    {
     "name": "stderr",
     "output_type": "stream",
     "text": [
      "[2020-07-09 11:00:05.815389] WARN: user_system_log: 配置'base.benchmark'已被弃用，使用'mod.sys_analyser.benchmark'代替\n"
     ]
    },
    {
     "name": "stdout",
     "output_type": "stream",
     "text": [
      "['K#90#1&HS&thre', 'close_MA_10_shift_1#close_MA_10#1&HS&diff*D_shift_1#80#1&HS&thre+close_MA_10_shift_1#close_MA_10#1&HS&diff*K_shift_1#90#1&thre+K_shift_1#20#0&HS&thre*D_shift_1#80#1&HS&thre+K_shift_1#20#0&HS&thre*K_shift_1#90#1&thre']\n"
     ]
    },
    {
     "name": "stderr",
     "output_type": "stream",
     "text": [
      "[2020-07-09 11:00:38.623573] WARN: user_system_log: 配置'base.benchmark'已被弃用，使用'mod.sys_analyser.benchmark'代替\n"
     ]
    }
   ],
   "source": [
    "s = \"['K#90#1&HS&thre+D_shift_1#10#0&HS&thre', 'close_MA_10_shift_1#close_MA_10#1&HS&diff+K_shift_1#20#0&HS&thre+D_shift_1#10#0&HS&thre*D_shift_1#80#1&HS&thre+K_shift_1#90#1&thre]\"\n",
    "_s_long = \"['K#90#1&HS&thre+D_shift_1#10#0&HS&thre', 'close_MA_10_shift_1#close_MA_10#1&HS&diff*D_shift_1#80#1&HS&thre+close_MA_10_shift_1#close_MA_10#1&HS&diff*K_shift_1#90#1&thre+K_shift_1#20#0&HS&thre*D_shift_1#80#1&HS&thre+K_shift_1#20#0&HS&thre*K_shift_1#90#1&thre+D_shift_1#10#0&HS&thre*D_shift_1#80#1&HS&thre+D_shift_1#10#0&HS&thre*K_shift_1#90#1&thre']\"\n",
    "result,result2 = get_split_expre(s,split_type = 'big')\n",
    "main.singel_expre_test(off_line = True,result_path = up_file+'/result/split')\n",
    "main.circle_expre(off_line = True,result_path = up_file+'/result/split')\n",
    "remain_stra_name_short,remain_stra_name_pure = get_remain_stra(result,_s_long)\n",
    "ago_remain_stra_name_short = []\n",
    "all_result = all_result_init()\n",
    "while(len(remain_stra_name_short)>0):\n",
    "#while(flag<1):\n",
    "    save_expre(remain_stra_name_short,remain_stra_name_pure,'remain_expre')\n",
    "    #result,result2,mother_list = gss.get_split_expre_list(remain_stra_name_short)\n",
    "    ago_remain_stra_name_short = copy.copy(remain_stra_name_short)\n",
    "    result,result2,mother_list = get_split_expre_list(remain_stra_name_short,split_type = 'big')\n",
    "    all_result = all_result_add(all_result,result,result2,mother_list)\n",
    "    result,result2 = clear_result(result,result2)\n",
    "    save_expre(result,result2)\n",
    "    main.circle_expre(off_line = True,result_path = up_file+'/result/split')\n",
    "    remain_stra_name_short,remain_stra_name_pure = get_remain_stra(result,_s_long)\n",
    "if(len(ago_remain_stra_name_short) == 0):\n",
    "    result,result2 = get_split_expre(s,split_type = 'small')\n",
    "    main.singel_expre_test(off_line = True,result_path = up_file+'/result/split')\n",
    "    main.circle_expre(off_line = True,result_path = up_file+'/result/split')\n",
    "    remain_stra_name_short,remain_stra_name_pure = get_remain_stra(result,_s_long)\n",
    "else:\n",
    "    remain_stra_name_short = copy.copy(ago_remain_stra_name_short)\n",
    "    flag = 0\n",
    "while(len(remain_stra_name_short)>0):\n",
    "    if(flag != 0):\n",
    "        save_expre(remain_stra_name_short,remain_stra_name_pure,'remain_expre')\n",
    "    result,result2,mother_list = get_split_expre_list(remain_stra_name_short,split_type = 'small')\n",
    "    all_result = all_result_add(all_result,result,result2,mother_list)\n",
    "    result,result2 = clear_result(result,result2)\n",
    "    save_expre(result,result2)\n",
    "    main.circle_expre(off_line = True,result_path = up_file+'/result/split')\n",
    "    remain_stra_name_short,remain_stra_name_pure = get_remain_stra(result,_s_long)\n",
    "    flag += 1\n",
    "all_fra = pd.DataFrame(all_result)\n",
    "all_fra.to_excel(up_file+'/result/split/'+'all_result.xlsx')"
   ]
  },
  {
   "cell_type": "code",
   "execution_count": 42,
   "metadata": {},
   "outputs": [],
   "source": [
    "s_ = re.split('\\[|\\]|,|\\'',s)\n",
    "s1 = s_[2]\n",
    "s2 = s_[5]\n",
    "s1_1 = re.split('\\*',s1)\n",
    "s2_1 = re.split('\\*',s2)\n",
    "s1_2 = []\n",
    "s2_2 = []\n",
    "\n",
    "for i in range(len(s1_1)):\n",
    "    temp = re.split('\\+',s1_1[i])\n",
    "    s1_2.append(temp)\n",
    "\n",
    "for i in range(len(s2_1)):\n",
    "    temp = re.split('\\+',s2_1[i])\n",
    "    s2_2.append(temp)"
   ]
  },
  {
   "cell_type": "code",
   "execution_count": 43,
   "metadata": {},
   "outputs": [
    {
     "data": {
      "text/plain": [
       "(['K#90#1&HS&thre+D_shift_1#10#0&HS&thre'],\n",
       " [['K#90#1&HS&thre', 'D_shift_1#10#0&HS&thre']],\n",
       " ['close_MA_10_shift_1#close_MA_10#1&HS&diff+K_shift_1#20#0&HS&thre+D_shift_1#10#0&HS&thre',\n",
       "  'D_shift_1#80#1&HS&thre+K_shift_1#90#1&thre'],\n",
       " [['close_MA_10_shift_1#close_MA_10#1&HS&diff',\n",
       "   'K_shift_1#20#0&HS&thre',\n",
       "   'D_shift_1#10#0&HS&thre'],\n",
       "  ['D_shift_1#80#1&HS&thre', 'K_shift_1#90#1&thre']])"
      ]
     },
     "execution_count": 43,
     "metadata": {},
     "output_type": "execute_result"
    }
   ],
   "source": [
    "s1_1,s1_2,s2_1,s2_2"
   ]
  },
  {
   "cell_type": "code",
   "execution_count": 44,
   "metadata": {},
   "outputs": [],
   "source": [
    "s2_1,s2_2 = get_oneside_sig(s2_2,side = 'HS')\n",
    "s1_1,s1_2 = get_oneside_sig(s1_2,side = 'HS')"
   ]
  },
  {
   "cell_type": "code",
   "execution_count": 45,
   "metadata": {},
   "outputs": [
    {
     "data": {
      "text/plain": [
       "(['K#90#1&HS&thre+D_shift_1#10#0&HS&thre'],\n",
       " [['K#90#1&HS&thre', 'D_shift_1#10#0&HS&thre']],\n",
       " ['close_MA_10_shift_1#close_MA_10#1&HS&diff+K_shift_1#20#0&HS&thre+D_shift_1#10#0&HS&thre',\n",
       "  'D_shift_1#80#1&HS&thre+'],\n",
       " [['close_MA_10_shift_1#close_MA_10#1&HS&diff',\n",
       "   'K_shift_1#20#0&HS&thre',\n",
       "   'D_shift_1#10#0&HS&thre'],\n",
       "  ['D_shift_1#80#1&HS&thre', '']])"
      ]
     },
     "execution_count": 45,
     "metadata": {},
     "output_type": "execute_result"
    }
   ],
   "source": [
    "s1_1,s1_2,s2_1,s2_2"
   ]
  },
  {
   "cell_type": "code",
   "execution_count": 46,
   "metadata": {},
   "outputs": [
    {
     "data": {
      "text/plain": [
       "[\"['K#90#1&HS&thre+D_shift_1#10#0&HS&thre', 'close_MA_10_shift_1#close_MA_10#1&HS&diff+K_shift_1#20#0&HS&thre+D_shift_1#10#0&HS&thre*D_shift_1#80#1&HS&thre+K_shift_1#90#1&thre]\",\n",
       " \"['K#90#1&HS&thre+D_shift_1#10#0&HS&thre', 'D_shift_1#80#1&HS&thre+K_shift_1#90#1&thre]\",\n",
       " \"['K#90#1&HS&thre+D_shift_1#10#0&HS&thre', 'close_MA_10_shift_1#close_MA_10#1&HS&diff+K_shift_1#20#0&HS&thre+D_shift_1#10#0&HS&threK_shift_1#90#1&thre]\"]"
      ]
     },
     "execution_count": 46,
     "metadata": {},
     "output_type": "execute_result"
    }
   ],
   "source": [
    "a,b = get_result(s,s1_1,s1_2,s2_1,s2_2)\n",
    "a"
   ]
  },
  {
   "cell_type": "code",
   "execution_count": 28,
   "metadata": {},
   "outputs": [],
   "source": [
    "s = \"['K#90#1&HS&thre+D_shift_1#10#0&HS&thre', 'close_MA_10_shift_1#close_MA_10#1&HS&diff+K_shift_1#20#0&HS&thre+D_shift_1#10#0&HS&thre*D_shift_1#80#1&HS&thre+K_shift_1#90#1&thre]\"\n",
    "_s_long = \"['K#90#1&HS&thre+D_shift_1#10#0&HS&thre', 'close_MA_10_shift_1#close_MA_10#1&HS&diff*D_shift_1#80#1&HS&thre+close_MA_10_shift_1#close_MA_10#1&HS&diff*K_shift_1#90#1&thre+K_shift_1#20#0&HS&thre*D_shift_1#80#1&HS&thre+K_shift_1#20#0&HS&thre*K_shift_1#90#1&thre+D_shift_1#10#0&HS&thre*D_shift_1#80#1&HS&thre+D_shift_1#10#0&HS&thre*K_shift_1#90#1&thre']\"\n",
    "result,result2 = get_split_expre(s,split_type = 'small')"
   ]
  },
  {
   "cell_type": "code",
   "execution_count": 29,
   "metadata": {},
   "outputs": [],
   "source": [
    "new_result,new_result2 = clear_result(result,result2)"
   ]
  },
  {
   "cell_type": "code",
   "execution_count": 30,
   "metadata": {},
   "outputs": [
    {
     "data": {
      "text/plain": [
       "(7, 0)"
      ]
     },
     "execution_count": 30,
     "metadata": {},
     "output_type": "execute_result"
    }
   ],
   "source": [
    "len(result),len(new_result)"
   ]
  },
  {
   "cell_type": "code",
   "execution_count": 12,
   "metadata": {},
   "outputs": [
    {
     "data": {
      "text/plain": [
       "[\"['D_shift_1#10#0&HS&thre','close_MA_10_shift_1#close_MA_10#1&HS&diff*D_shift_1#80#1&HS&thre+close_MA_10_shift_1#close_MA_10#1&HS&diff*K_shift_1#90#1&thre+K_shift_1#20#0&HS&thre*D_shift_1#80#1&HS&thre+K_shift_1#20#0&HS&thre*K_shift_1#90#1&thre+D_shift_1#10#0&HS&thre*D_shift_1#80#1&HS&thre+D_shift_1#10#0&HS&thre*K_shift_1#90#1&thre']\",\n",
       " \"['K#90#1&HS&thre','close_MA_10_shift_1#close_MA_10#1&HS&diff*D_shift_1#80#1&HS&thre+close_MA_10_shift_1#close_MA_10#1&HS&diff*K_shift_1#90#1&thre+K_shift_1#20#0&HS&thre*D_shift_1#80#1&HS&thre+K_shift_1#20#0&HS&thre*K_shift_1#90#1&thre']\",\n",
       " \"['K#90#1&HS&thre+D_shift_1#10#0&HS&thre','K_shift_1#20#0&HS&thre*D_shift_1#80#1&HS&thre+K_shift_1#20#0&HS&thre*K_shift_1#90#1&thre+D_shift_1#10#0&HS&thre*D_shift_1#80#1&HS&thre+D_shift_1#10#0&HS&thre*K_shift_1#90#1&thre']\",\n",
       " \"['K#90#1&HS&thre+D_shift_1#10#0&HS&thre','close_MA_10_shift_1#close_MA_10#1&HS&diff*D_shift_1#80#1&HS&thre+close_MA_10_shift_1#close_MA_10#1&HS&diff*K_shift_1#90#1&thre+D_shift_1#10#0&HS&thre*D_shift_1#80#1&HS&thre+D_shift_1#10#0&HS&thre*K_shift_1#90#1&thre']\",\n",
       " \"['K#90#1&HS&thre','close_MA_10_shift_1#close_MA_10#1&HS&diff*D_shift_1#80#1&HS&thre+close_MA_10_shift_1#close_MA_10#1&HS&diff*K_shift_1#90#1&thre+K_shift_1#20#0&HS&thre*D_shift_1#80#1&HS&thre+K_shift_1#20#0&HS&thre*K_shift_1#90#1&thre']\",\n",
       " \"['K#90#1&HS&thre+D_shift_1#10#0&HS&thre','close_MA_10_shift_1#close_MA_10#1&HS&diff*K_shift_1#90#1&thre+K_shift_1#20#0&HS&thre*K_shift_1#90#1&thre+D_shift_1#10#0&HS&thre*K_shift_1#90#1&thre']\",\n",
       " \"['K#90#1&HS&thre+D_shift_1#10#0&HS&thre','close_MA_10_shift_1#close_MA_10#1&HS&diff*D_shift_1#80#1&HS&thre+K_shift_1#20#0&HS&thre*D_shift_1#80#1&HS&thre+D_shift_1#10#0&HS&thre*D_shift_1#80#1&HS&thre']\"]"
      ]
     },
     "execution_count": 12,
     "metadata": {},
     "output_type": "execute_result"
    }
   ],
   "source": [
    "result2"
   ]
  },
  {
   "cell_type": "code",
   "execution_count": 23,
   "metadata": {},
   "outputs": [],
   "source": [
    "a = \"['K#90#1&HS&thre','close_MA_10_shift_1#close_MA_10#1&HS&diff*D_shift_1#80#1&HS&thre']\""
   ]
  },
  {
   "cell_type": "code",
   "execution_count": 21,
   "metadata": {},
   "outputs": [],
   "source": [
    "unit = pd.read_excel(up_file+'/result/split'+'/unit.xlsx')\n",
    "u_col = unit.columns.values"
   ]
  },
  {
   "cell_type": "code",
   "execution_count": 25,
   "metadata": {},
   "outputs": [],
   "source": [
    "b= u_col[-1][:-19]"
   ]
  },
  {
   "cell_type": "code",
   "execution_count": 26,
   "metadata": {},
   "outputs": [
    {
     "data": {
      "text/plain": [
       "False"
      ]
     },
     "execution_count": 26,
     "metadata": {},
     "output_type": "execute_result"
    }
   ],
   "source": [
    "a==b"
   ]
  },
  {
   "cell_type": "code",
   "execution_count": null,
   "metadata": {},
   "outputs": [],
   "source": []
  }
 ],
 "metadata": {
  "kernelspec": {
   "display_name": "Python 3",
   "language": "python",
   "name": "python3"
  },
  "language_info": {
   "codemirror_mode": {
    "name": "ipython",
    "version": 3
   },
   "file_extension": ".py",
   "mimetype": "text/x-python",
   "name": "python",
   "nbconvert_exporter": "python",
   "pygments_lexer": "ipython3",
   "version": "3.7.7"
  }
 },
 "nbformat": 4,
 "nbformat_minor": 4
}
