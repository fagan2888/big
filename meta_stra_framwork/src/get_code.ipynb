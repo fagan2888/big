{
 "cells": [
  {
   "cell_type": "code",
   "execution_count": 1,
   "metadata": {},
   "outputs": [],
   "source": [
    "import params_1\n",
    "import copydata\n",
    "import re\n",
    "import copy\n",
    "import get_new_expre\n",
    "import pandas as pd\n",
    "from rqdata import up_file,now_file\n",
    "import quick_sig as qs\n",
    "import time\n",
    "import sig_data\n",
    "import os\n",
    "import KB\n",
    "\n",
    "import smtplib\n",
    "from email.mime.multipart import MIMEMultipart    \n",
    "from email.mime.text import MIMEText    \n",
    "from email.mime.image import MIMEImage \n",
    "from email.header import Header "
   ]
  },
  {
   "cell_type": "code",
   "execution_count": 4,
   "metadata": {},
   "outputs": [],
   "source": [
    "param =  params_1.PARAMS\n",
    "HS_code = param['HS_code']"
   ]
  },
  {
   "cell_type": "code",
   "execution_count": 11,
   "metadata": {},
   "outputs": [],
   "source": [
    "_index = pd.read_csv(param['_index_save_path']+HS_code+'.csv',index_col='date')\n",
    "K = _index.iloc[-1]['K']\n",
    "close_MA_10_shift_1 = _index.iloc[-1]['close_MA_10_shift_1']\n",
    "close_MA_10 = _index.iloc[-1]['close_MA_10']\n",
    "D_shift_1 = _index.iloc[-1]['D_shift_1']"
   ]
  },
  {
   "cell_type": "code",
   "execution_count": 14,
   "metadata": {},
   "outputs": [
    {
     "data": {
      "text/plain": [
       "90.725"
      ]
     },
     "execution_count": 14,
     "metadata": {},
     "output_type": "execute_result"
    }
   ],
   "source": [
    "import numpy as np\n",
    "np.round(K,3)"
   ]
  },
  {
   "cell_type": "code",
   "execution_count": null,
   "metadata": {},
   "outputs": [],
   "source": []
  }
 ],
 "metadata": {
  "kernelspec": {
   "display_name": "Python 3",
   "language": "python",
   "name": "python3"
  },
  "language_info": {
   "codemirror_mode": {
    "name": "ipython",
    "version": 3
   },
   "file_extension": ".py",
   "mimetype": "text/x-python",
   "name": "python",
   "nbconvert_exporter": "python",
   "pygments_lexer": "ipython3",
   "version": "3.7.7"
  }
 },
 "nbformat": 4,
 "nbformat_minor": 4
}
